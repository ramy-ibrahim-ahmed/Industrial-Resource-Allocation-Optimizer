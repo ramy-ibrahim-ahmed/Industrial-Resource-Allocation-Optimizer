{
 "cells": [
  {
   "cell_type": "markdown",
   "id": "e919810d",
   "metadata": {},
   "source": [
    "---\n",
    "## Consultant for boutique cake bakery that sell 2 types of cakes 30 day month\n",
    "---\n",
    "### There is:\n",
    "- 1 oven\n",
    "- 2 bakers\n",
    "- 1 packaging packer that only works 22 days \n",
    "\n",
    "### Different resource needs for the 2 types of cake:\n",
    "\n",
    "<img src='cakes.png' width='200'>\n",
    "\n",
    "\n",
    "### Objective is to maximize profit\n",
    "- Profit = 20*A + 40*B\n",
    "### Subject to:\n",
    "---\n",
    "- A >= 0\n",
    "- B >= 0\n",
    "- 0.5A + 1B <= 30\n",
    "- 1A + 2.5B <= 60\n",
    "- 1A + 2B <= 22\n",
    "---"
   ]
  },
  {
   "cell_type": "markdown",
   "id": "48cdb7e6",
   "metadata": {},
   "source": [
    "### 1- Initializing model - LpProblem()"
   ]
  },
  {
   "cell_type": "code",
   "execution_count": 1,
   "id": "6399394a",
   "metadata": {},
   "outputs": [],
   "source": [
    "from pulp import *\n",
    "model = LpProblem(\"Maximize-Profit\", LpMaximize)"
   ]
  },
  {
   "cell_type": "markdown",
   "id": "9fb47ec4",
   "metadata": {},
   "source": [
    "### 2- Define desision variables - LpVariable()"
   ]
  },
  {
   "cell_type": "code",
   "execution_count": 2,
   "id": "6753f975",
   "metadata": {},
   "outputs": [],
   "source": [
    "# define desision variables\n",
    "A = LpVariable('A', lowBound=0, cat='Integer')\n",
    "B = LpVariable('B', lowBound=0, cat='Integer')\n"
   ]
  },
  {
   "cell_type": "markdown",
   "id": "8a39d962",
   "metadata": {},
   "source": [
    "### 3- Define Opjective Function"
   ]
  },
  {
   "cell_type": "code",
   "execution_count": 3,
   "id": "d68485ff",
   "metadata": {},
   "outputs": [],
   "source": [
    "model += 20 * A + 40 * B"
   ]
  },
  {
   "cell_type": "markdown",
   "id": "b533c13c",
   "metadata": {},
   "source": [
    "### 4- Define Constraints"
   ]
  },
  {
   "cell_type": "code",
   "execution_count": 4,
   "id": "7466b246",
   "metadata": {},
   "outputs": [],
   "source": [
    "model += 0.5 * A + 1 * B <= 30\n",
    "model += 1 * A + 2.5 * B <= 60\n",
    "model += 1 * A + 2 * B <= 22 "
   ]
  },
  {
   "cell_type": "markdown",
   "id": "8067c7d8",
   "metadata": {},
   "source": [
    "### 5- Solve Model"
   ]
  },
  {
   "cell_type": "code",
   "execution_count": 5,
   "id": "132868c7",
   "metadata": {},
   "outputs": [
    {
     "name": "stdout",
     "output_type": "stream",
     "text": [
      "Status: Optimal\n",
      "Produce 0 Cake A\n",
      "Produce 11 Cake B\n"
     ]
    }
   ],
   "source": [
    "model.solve()\n",
    "print(\"Status:\", LpStatus[model.status])\n",
    "print(f\"Produce {int(A.varValue)} Cake A\")\n",
    "print(f\"Produce {int(B.varValue)} Cake B\")"
   ]
  }
 ],
 "metadata": {
  "kernelspec": {
   "display_name": "Python 3 (ipykernel)",
   "language": "python",
   "name": "python3"
  },
  "language_info": {
   "codemirror_mode": {
    "name": "ipython",
    "version": 3
   },
   "file_extension": ".py",
   "mimetype": "text/x-python",
   "name": "python",
   "nbconvert_exporter": "python",
   "pygments_lexer": "ipython3",
   "version": "3.11.5"
  }
 },
 "nbformat": 4,
 "nbformat_minor": 5
}
